# Abordagem Construtivista com Explicações Passo-a-Passo
# Versão Final Organizada

from shiny import App, ui, render, reactive, Inputs, Outputs, Session
import random
import time
import io
import sys
from contextlib import redirect_stdout

# =============================================================================
# CSS CUSTOMIZADO
# =============================================================================

app_css = """
.main-header { 
    background: linear-gradient(135deg, #667eea 0%, #764ba2 100%);
    color: white;
    padding: 20px;
    border-radius: 10px;
    margin-bottom: 20px;
    text-align: center;
    box-shadow: 0 4px 6px rgba(0,0,0,0.1);
}

.exercise-box {
    background: #f8f9fa;
    padding: 15px;
    border-radius: 8px;
    margin: 10px 0;
    border-left: 4px solid #667eea;
    box-shadow: 0 2px 4px rgba(0,0,0,0.05);
}

.output-box {
    background: #282c34;
    color: #61dafb;
    padding: 15px;
    border-radius: 8px;
    font-family: 'Courier New', monospace;
    min-height: 100px;
    white-space: pre-wrap;
    overflow-y: auto;
    max-height: 400px;
    line-height: 1.4;
    box-shadow: inset 0 2px 4px rgba(0,0,0,0.1);
}

.success-msg {
    background: #d4edda;
    color: #155724;
    padding: 10px;
    border-radius: 5px;
    margin: 10px 0;
    border-left: 4px solid #28a745;
}

.error-msg {
    background: #f8d7da;
    color: #721c24;
    padding: 10px;
    border-radius: 5px;
    margin: 10px 0;
    border-left: 4px solid #dc3545;
}

.tip-box {
    background: #fff3cd;
    color: #856404;
    padding: 10px;
    border-radius: 5px;
    margin: 10px 0;
    border-left: 4px solid #ffc107;
}

.step-box {
    background: #e3f2fd;
    color: #1565c0;
    padding: 12px;
    border-radius: 5px;
    margin: 8px 0;
    border-left: 3px solid #1565c0;
}

.interactive-box {
    background: #f3e5f5;
    padding: 15px;
    border-radius: 8px;
    margin: 10px 0;
    border: 2px dashed #9c27b0;
}

.code-part {
    background: #ffeb3b;
    padding: 2px 6px;
    border-radius: 3px;
    font-family: 'Courier New', monospace;
    font-weight: bold;
    color: #333;
}

.btn { 
    margin: 5px; 
    padding: 8px 16px; 
    border-radius: 5px; 
    border: none; 
    cursor: pointer; 
    transition: all 0.2s;
}

.btn:hover { transform: translateY(-1px); }

.btn-primary { background-color: #007bff; color: white; }
.btn-success { background-color: #28a745; color: white; }
.btn-warning { background-color: #ffc107; color: black; }
.btn-danger { background-color: #dc3545; color: white; }
.btn-info { background-color: #17a2b8; color: white; }
.btn-secondary { background-color: #6c757d; color: white; }
.btn-lg { font-size: 1.2em; padding: 12px 24px; }
"""

# =============================================================================
# INTERFACE DO USUÁRIO
# =============================================================================

app_ui = ui.page_fluid(
    ui.tags.style(app_css),
    
    # Cabeçalho Principal
    ui.div(
        ui.h1("🎮 Laboratório Interativo de Loops em Python"),
        ui.h4("Aprenda cada detalhe dos loops de forma divertida e interativa!"),
        class_="main-header"
    ),
    
    # Sistema de Abas
    ui.navset_tab(
        
        # =====================================================================
        # ABA 1: ANATOMIA DO FOR
        # =====================================================================
        ui.nav_panel(
            "🔬 Anatomia do FOR",
            ui.br(),
            ui.row(
                ui.column(
                    6,
                    ui.div(
                        ui.h3("🧩 Vamos Montar um Loop FOR Juntos!"),
                        ui.p("Um loop FOR tem 3 partes principais. Vamos construir cada uma:"),
                        ui.br(),
                        
                        # Parte 1: Variável de Controle
                        ui.div(
                            ui.h4("Parte 1️⃣: A Variável de Controle"),
                            ui.p("Esta é a variável que vai mudar a cada repetição."),
                            ui.input_text("for_variable", "Nome da variável (exemplo: i, contador, numero):", 
                                        value="i"),
                            class_="step-box"
                        ),
                        
                        # Parte 2: Range
                        ui.div(
                            ui.h4("Parte 2️⃣: O Intervalo (range)"),
                            ui.p("Define onde começar, onde parar e como avançar."),
                            ui.input_numeric("for_start", "Começar em:", value=1, min=0, max=100),
                            ui.input_numeric("for_end", "Terminar em:", value=6, min=1, max=100),
                            ui.input_numeric("for_step", "Pular de quanto em quanto:", value=1, min=1, max=10),
                            class_="step-box"
                        ),
                        
                        # Parte 3: Ação
                        ui.div(
                            ui.h4("Parte 3️⃣: A Ação"),
                            ui.p("O que você quer fazer em cada repetição?"),
                            ui.input_select("for_action", "Escolha uma ação:",
                                          choices={
                                              "print": "Imprimir o valor",
                                              "square": "Calcular o quadrado",
                                              "accumulate": "Acumular soma",
                                              "star": "Desenhar estrelas",
                                              "custom": "Ação personalizada"
                                          }),
                            ui.input_text("for_custom_action", "Ação personalizada (use {var} para a variável):",
                                        value="Passo {var}: Olá!"),
                            class_="step-box"
                        ),
                        
                        # Botões de Ação
                        ui.br(),
                        ui.input_action_button("build_for", "🔨 Construir e Executar FOR", 
                                             class_="btn btn-primary btn-lg"),
                        ui.br(),
                        ui.input_action_button("step_by_step_for", "🐢 Executar Passo-a-Passo", 
                                             class_="btn btn-info"),
                        ui.br(),
                        ui.output_ui("for_step_output"),
                        class_="exercise-box"
                    )
                ),
                
                # Coluna de Resultados
                ui.column(
                    6,
                    ui.h4("💻 Seu Loop FOR Montado:"),
                    ui.output_ui("for_anatomy_code"),
                    ui.br(),
                    ui.h4("🎯 Execução:"),
                    ui.div(
                        ui.output_ui("for_anatomy_output"),
                        class_="output-box"
                    ),
                    ui.br(),
                    ui.output_ui("for_explanation")
                )
            )
        ),
        
        # =====================================================================
        # ABA 2: ANATOMIA DO WHILE  
        # =====================================================================
        ui.nav_panel(
            "🔬 Anatomia do WHILE",
            ui.br(),
            ui.row(
                ui.column(
                    6,
                    ui.div(
                        ui.h3("🧩 Vamos Montar um Loop WHILE Juntos!"),
                        ui.p("Um loop WHILE tem 4 partes essenciais:"),
                        ui.br(),
                        
                        # Parte 1: Inicialização
                        ui.div(
                            ui.h4("Parte 1️⃣: Inicialização"),
                            ui.p("Primeiro, criamos uma variável com valor inicial."),
                            ui.input_text("while_var", "Nome da variável:", value="contador"),
                            ui.input_numeric("while_initial", "Valor inicial:", value=0, min=-100, max=100),
                            class_="step-box"
                        ),
                        
                        # Parte 2: Condição
                        ui.div(
                            ui.h4("Parte 2️⃣: A Condição"),
                            ui.p("O loop continua ENQUANTO esta condição for verdadeira."),
                            ui.input_select("while_condition", "Tipo de condição:",
                                          choices={
                                              "<": "Menor que (<)",
                                              "<=": "Menor ou igual (<=)",
                                              ">": "Maior que (>)",
                                              ">=": "Maior ou igual (>=)",
                                              "!=": "Diferente de (!=)",
                                              "==": "Igual a (==)"
                                          }),
                            ui.input_numeric("while_limit", "Valor de comparação:", value=5, min=-100, max=100),
                            class_="step-box"
                        ),
                        
                        # Parte 3: Ação
                        ui.div(
                            ui.h4("Parte 3️⃣: A Ação no Loop"),
                            ui.p("O que fazer enquanto a condição for verdadeira?"),
                            ui.input_select("while_action", "Ação principal:",
                                          choices={
                                              "count": "Contar",
                                              "accumulate": "Acumular valores",
                                              "search": "Procurar algo",
                                              "game": "Jogo de sorte"
                                          }),
                            class_="step-box"
                        ),
                        
                        # Parte 4: Atualização
                        ui.div(
                            ui.h4("Parte 4️⃣: A Atualização"),
                            ui.p("Como a variável muda a cada repetição?"),
                            ui.input_select("while_update", "Tipo de atualização:",
                                          choices={
                                              "+=1": "Adicionar 1 (+=1)",
                                              "+=2": "Adicionar 2 (+=2)",
                                              "*=2": "Multiplicar por 2 (*=2)",
                                              "-=1": "Subtrair 1 (-=1)",
                                              "random": "Valor aleatório"
                                          }),
                            class_="step-box"
                        ),
                        
                        # Botões de Ação
                        ui.br(),
                        ui.input_action_button("build_while", "🔨 Construir e Executar WHILE", 
                                             class_="btn btn-success btn-lg"),
                        ui.br(),
                        ui.input_action_button("step_by_step_while", "🐢 Executar Passo-a-Passo", 
                                             class_="btn btn-info"),
                        ui.br(),
                        ui.output_ui("while_step_output"),
                        class_="exercise-box"
                    )
                ),
                
                # Coluna de Resultados
                ui.column(
                    6,
                    ui.h4("💻 Seu Loop WHILE Montado:"),
                    ui.output_ui("while_anatomy_code"),
                    ui.br(),
                    ui.h4("🎯 Execução:"),
                    ui.div(
                        ui.output_ui("while_anatomy_output"),
                        class_="output-box"
                    ),
                    ui.br(),
                    ui.output_ui("while_explanation")
                )
            )
        ),
        
        # =====================================================================
        # ABA 3: FOR E WHILE JUNTOS
        # =====================================================================
        ui.nav_panel(
            "🤝 FOR + WHILE Juntos",
            ui.br(),
            ui.row(
                ui.column(
                    12,
                    ui.div(
                        ui.h3("🎪 Loops Trabalhando em Equipe!"),
                        ui.p("Veja como FOR e WHILE podem trabalhar juntos para resolver problemas complexos:"),
                        ui.br(),
                        
                        # Primeira linha de exemplos
                        ui.row(
                            ui.column(
                                4,
                                ui.div(
                                    ui.h4("🎮 Jogo de Dados"),
                                    ui.p("FOR para jogadores, WHILE para rodadas!"),
                                    ui.input_numeric("num_players", "Número de jogadores:", 
                                                   value=3, min=2, max=5),
                                    ui.input_numeric("target_score", "Pontuação para vencer:", 
                                                   value=20, min=10, max=50),
                                    ui.input_action_button("run_game", "🎲 Iniciar Jogo", 
                                                         class_="btn btn-warning"),
                                    class_="interactive-box"
                                )
                            ),
                            ui.column(
                                4,
                                ui.div(
                                    ui.h4("📊 Padrões Geométricos"),
                                    ui.p("FOR para linhas, WHILE para elementos!"),
                                    ui.input_numeric("pattern_rows", "Número de linhas:", 
                                                   value=5, min=3, max=10),
                                    ui.input_select("pattern_type", "Tipo de padrão:",
                                                  choices={
                                                      "triangle": "Triângulo",
                                                      "diamond": "Diamante", 
                                                      "pyramid": "Pirâmide"
                                                  }),
                                    ui.input_action_button("run_pattern", "✨ Criar Padrão", 
                                                         class_="btn btn-info"),
                                    class_="interactive-box"
                                )
                            ),
                            ui.column(
                                4,
                                ui.div(
                                    ui.h4("🔍 Busca por Tentativas"),
                                    ui.p("WHILE para tentativas, FOR para buscar!"),
                                    ui.input_text("search_item", "Item para buscar:", value="🎁"),
                                    ui.input_numeric("max_attempts", "Máximo de tentativas:", 
                                                   value=3, min=2, max=5),
                                    ui.input_action_button("run_search", "🔍 Buscar Item", 
                                                         class_="btn btn-primary"),
                                    class_="interactive-box"
                                )
                            )
                        ),
                        
                        ui.br(),
                        
                        # Segunda linha de exemplos
                        ui.row(
                            ui.column(
                                6,
                                ui.div(
                                    ui.h4("🏭 Produção Industrial"),
                                    ui.p("WHILE para meta, FOR para lotes!"),
                                    ui.input_numeric("target_production", "Meta de produção:", 
                                                   value=100, min=50, max=200),
                                    ui.input_numeric("batch_size", "Tamanho do lote:", 
                                                   value=10, min=5, max=20),
                                    ui.input_action_button("run_production", "🏭 Simular Produção", 
                                                         class_="btn btn-success"),
                                    class_="interactive-box"
                                )
                            ),
                            ui.column(
                                6,
                                ui.div(
                                    ui.h4("🎯 Quiz Interativo"),
                                    ui.p("WHILE para jogadores, FOR para perguntas!"),
                                    ui.input_numeric("num_quiz_players", "Número de jogadores:", 
                                                   value=2, min=2, max=4),
                                    ui.input_numeric("questions_per_round", "Perguntas por rodada:", 
                                                   value=3, min=2, max=5),
                                    ui.input_action_button("run_quiz", "🎯 Iniciar Quiz", 
                                                         class_="btn btn-danger"),
                                    class_="interactive-box"
                                )
                            )
                        ),
                        class_="exercise-box"
                    )
                ),
                
                # Área de Resultados
                ui.column(
                    12,
                    ui.br(),
                    ui.h4("💻 Código Combinado:"),
                    ui.output_ui("combined_code"),
                    ui.br(),
                    ui.h4("📊 Resultado:"),
                    ui.div(
                        ui.output_ui("combined_output"),
                        class_="output-box"
                    ),
                    ui.br(),
                    ui.output_ui("combined_explanation")
                )
            )
        ),
        
        # =====================================================================
        # ABA 4: DESAFIOS INTERATIVOS
        # =====================================================================
        ui.nav_panel(
            "🎯 Desafios Interativos",
            ui.br(),
            ui.row(
                ui.column(
                    6,
                    ui.div(
                        ui.h3("🧩 Desafio: Complete o Código!"),
                        ui.p("Preencha as lacunas para fazer o loop funcionar:"),
                        ui.br(),
                        
                        ui.output_ui("challenge_prompt"),
                        ui.br(),
                        
                        ui.div(
                            ui.h5("📝 Complete o código:"),
                            ui.output_ui("challenge_inputs"),
                            ui.br(),
                            ui.input_action_button("check_challenge", "✓ Verificar", 
                                                 class_="btn btn-success"),
                            ui.input_action_button("hint_challenge", "💡 Dica", 
                                                 class_="btn btn-warning"),
                            ui.input_action_button("next_challenge", "→ Próximo", 
                                                 class_="btn btn-info"),
                            class_="interactive-box"
                        ),
                        class_="exercise-box"
                    )
                ),
                
                # Coluna de Resultados
                ui.column(
                    6,
                    ui.h4("💻 Código Completo:"),
                    ui.output_ui("challenge_code"),
                    ui.br(),
                    ui.h4("📊 Resultado Esperado:"),
                    ui.div(
                        ui.output_ui("challenge_result"),
                        class_="output-box"
                    ),
                    ui.br(),
                    ui.output_ui("challenge_feedback")
                )
            )
        ),
        
        # =====================================================================
        # ABA 5: LABORATÓRIO LIVRE
        # =====================================================================
        ui.nav_panel(
            "🔬 Laboratório Livre",
            ui.br(),
            ui.row(
                ui.column(
                    6,
                    ui.div(
                        ui.h3("🎨 Experimente Livremente!"),
                        ui.p("Crie seus próprios loops e veja o resultado:"),
                        
                        ui.input_select("lab_template", "Começar com um template:",
                                      choices={
                                          "blank": "Em branco",
                                          "for_basic": "FOR básico",
                                          "while_basic": "WHILE básico",
                                          "nested": "Loops aninhados",
                                          "combined": "FOR + WHILE"
                                      }),
                        ui.br(),
                        
                        ui.input_text_area("lab_code", "Seu código:", 
                                         value="# Digite seu código aqui\nfor i in range(5):\n    print(f'Número: {i}')", 
                                         height="300px", width="100%"),
                        
                        ui.br(),
                        ui.input_action_button("run_lab", "▶️ Executar", 
                                             class_="btn btn-primary btn-lg"),
                        ui.input_action_button("clear_lab", "🗑️ Limpar", 
                                             class_="btn btn-secondary"),
                        
                        ui.br(), ui.br(),
                        ui.div(
                            ui.h5("📚 Referência Rápida:"),
                            ui.p(ui.HTML("<span class='code-part'>FOR:</span> for i in range(inicio, fim, passo):")),
                            ui.p(ui.HTML("<span class='code-part'>WHILE:</span> while condição:")),
                            ui.p(ui.HTML("<span class='code-part'>BREAK:</span> if condição: break")),
                            ui.p(ui.HTML("<span class='code-part'>CONTINUE:</span> if condição: continue")),
                            class_="tip-box"
                        ),
                        class_="exercise-box"
                    )
                ),
                
                # Coluna de Resultados
                ui.column(
                    6,
                    ui.h4("📊 Saída do Código:"),
                    ui.div(
                        ui.output_text_verbatim("lab_output"),
                        class_="output-box"
                    ),
                    ui.br(),
                    ui.output_ui("lab_analysis"),
                    ui.br(),
                    ui.output_ui("lab_tips")
                )
            )
        )
    )
)

# =============================================================================
# SERVIDOR - LÓGICA DA APLICAÇÃO
# =============================================================================

def server(input: Inputs, output: Outputs, session: Session):
    
    # =========================================================================
    # VARIÁVEIS REATIVAS GLOBAIS
    # =========================================================================
    
    current_challenge_idx = reactive.Value(0)
    
    # =========================================================================
    # DADOS ESTÁTICOS
    # =========================================================================
    
    # Desafios interativos
    challenges = [
        {
            "title": "Contar até 10",
            "template": "for ___ in range(1, ___, 1):\n    print(___)",
            "blanks": ["i", "11", "i"],
            "expected": "1\n2\n3\n4\n5\n6\n7\n8\n9\n10",
            "hints": ["A variável de controle geralmente é 'i'", "Range vai de 1 até 11 (exclusive)", "Print a variável i"]
        },
        {
            "title": "Somar números",
            "template": "soma = ___\nfor num in range(1, 6):\n    soma ___ num\nprint(soma)",
            "blanks": ["0", "+="],
            "expected": "15",
            "hints": ["Comece a soma com 0", "Use += para adicionar"]
        },
        {
            "title": "Countdown",
            "template": "contador = ___\nwhile contador ___ 0:\n    print(contador)\n    contador ___",
            "blanks": ["5", ">", "-= 1"],
            "expected": "5\n4\n3\n2\n1",
            "hints": ["Comece em 5", "Continue enquanto maior que 0", "Decremente em 1"]
        }
    ]
    
    # Templates do laboratório
    lab_templates = {
        "blank": "# Digite seu código aqui\n",
        "for_basic": "# Loop FOR básico\nfor i in range(1, 6):\n    print(f'Iteração {i}')",
        "while_basic": "# Loop WHILE básico\ncontador = 0\nwhile contador < 5:\n    print(f'Contador: {contador}')\n    contador += 1",
        "nested": "# Loops aninhados\nfor i in range(1, 4):\n    for j in range(1, 4):\n        print(f'({i},{j})', end=' ')\n    print()",
        "combined": "# FOR e WHILE combinados\nfor rodada in range(1, 4):\n    print(f'Rodada {rodada}:')\n    tentativas = 0\n    while tentativas < 3:\n        print(f'  Tentativa {tentativas + 1}')\n        tentativas += 1"
    }
    
    # =========================================================================
    # FUNÇÕES AUXILIARES
    # =========================================================================
    
    def safe_eval_condition(value, operator, limit):
        """Avalia condições do WHILE de forma segura"""
        operator = {
            "<": lambda x, y: x < y,
            "<=": lambda x, y: x <= y,
            ">": lambda x, y: x > y,
            ">=": lambda x, y: x >= y,
            "==": lambda x, y: x == y,
            "!=": lambda x, y: x != y
        }
        return operator.get(operator, lambda x, y: False)(value, limit)
    
    def safe_execute_code(code):
        """Executa código Python de forma segura capturando a saída"""
        try:
            output_buffer = io.StringIO()
            with redirect_stdout(output_buffer):
                exec(code, {"random": random, "range": range, "print": print})
            return output_buffer.getvalue()
        except Exception as e:
            return f"❌ Erro na execução:\n{str(e)}"
        except ValueError as e:
          result.append(ui.div(f"❌ Valor inválido: {str(e)}", style="color: #dc3545;"))
        except ZeroDivisionError as e:
          result.append(ui.div(f"❌ Divisão por zero: {str(e)}", style="color: #dc3545;"))
        except Exception as e:
          result.append(ui.div(f"❌ Erro inesperado: {str(e)}", style="color: #dc3545;"))
            
    def validate_inputs(initial, limit, condition):
      if not isinstance(initial, int) or not isinstance(limit, int):
        raise ValueError("Valores devem ser números inteiros")
      if condition not in ['<', '<=', '>', '>=', '==', '!=']:
        raise ValueError("Operador de condição inválido")
            

    
    # =========================================================================
    # HANDLERS DA ABA 1: ANATOMIA DO FOR
    # =========================================================================
    
    @reactive.effect
    @reactive.event(input.build_for)
    def handle_for_anatomy():
        """Constrói e executa o loop FOR"""
        var = input.for_variable()
        start = input.for_start()
        end = input.for_end()
        step = input.for_step()
        action = input.for_action()
        custom = input.for_custom_action()
        
        @output
        @render.ui
        def for_anatomy_code():
            """Gera o código visual do FOR"""
            code_lines = []
            
            if action == "accumulate":
                code_lines.append("soma = 0  # Inicializar acumulador")
            
            # Linha principal do FOR com destaque
            for_line = ui.HTML(f"for <span class='code-part'>{var}</span> in <span class='code-part'>range({start}, {end}, {step})</span>:")
            code_lines.append(for_line)
            
            # Corpo do loop
            if action == "print":
                code_lines.append(f"    print({var})")
            elif action == "square":
                code_lines.append(f"    quadrado = {var} ** 2")
                code_lines.append(f"    print(f'{{{var}}}² = {{quadrado}}')")
            elif action == "accumulate":
                code_lines.append(f"    soma += {var}")
                code_lines.append(f"    print(f'Soma até agora: {{soma}}')")
            elif action == "star":
                code_lines.append(f"    print('⭐' * {var})")
            elif action == "custom":
                formatted = custom.replace("{var}", f"{{{var}}}")
                code_lines.append(f"    print(f'{formatted}')")
            
            return ui.div(
                ui.div(*[ui.div(line) for line in code_lines]),
                style="background: #f8f9fa; padding: 15px; border-radius: 5px; font-family: 'Courier New', monospace; line-height: 1.4;"
            )
        
        @output
        @render.ui
        def for_anatomy_output():
            """Executa e mostra o resultado do FOR"""
            result = []
            soma = 0
            
            try:
                range_values = list(range(start, end, step))
                if not range_values:
                    result.append(ui.div("⚠️ Range vazio! Verifique os parâmetros.", 
                                       style="color: #dc3545; font-weight: bold;"))
                    return ui.div(*result)
                
                for i in range_values:
                    if action == "print":
                        result.append(ui.div(str(i), style="margin: 2px 0;"))
                    elif action == "square":
                        result.append(ui.div(f"{i}² = {i**2}", style="margin: 2px 0;"))
                    elif action == "accumulate":
                        soma += i
                        result.append(ui.div(f"Soma até agora: {soma}", style="margin: 2px 0;"))
                    elif action == "star":
                        stars = min(i, 15)  # Limitar para não sobrecarregar
                        result.append(ui.div("⭐" * stars + (" ..." if i > 15 else ""), style="margin: 2px 0;"))
                    elif action == "custom":
                        formatted = custom.replace("{var}", str(i))
                        result.append(ui.div(formatted, style="margin: 2px 0;"))
                        
            except Exception as e:
                result.append(ui.div(f"❌ Erro: {str(e)}", style="color: #dc3545;"))
            
            return ui.div(*result, style="line-height: 0.5;")
        
        @output
        @render.ui
        def for_explanation():
            """Gera explicação do FOR"""
            try:
                range_values = list(range(start, end, step))
                total_iterations = len(range_values)
                
                return ui.div(
                    ui.h5("🎓 O que aconteceu:"),
                    ui.p(f"1. A variável '{var}' começou com valor {start}"),
                    ui.p(f"2. A cada repetição, '{var}' aumentou em {step}"),
                    ui.p(f"3. O loop parou quando '{var}' chegou em {end}"),
                    ui.p(f"4. Total de repetições: {total_iterations}"),
                    ui.p(f"5. Valores assumidos: {range_values}"),
                    class_="success-msg"
                )
            except:
                return ui.div("⚠️ Erro na configuração do loop", class_="error-msg")
    
    @reactive.effect
    @reactive.event(input.step_by_step_for)
    def handle_for_step_by_step():
        """Execução passo-a-passo do FOR"""
        var = input.for_variable()
        start = input.for_start()
        end = input.for_end()
        step = input.for_step()
        action = input.for_action()
        custom = input.for_custom_action()
        
        @output
        @render.ui
        def for_step_output():
            result = []
            
            try:
                range_values = list(range(start, end, step))
                
                if not range_values:
                    result.append(ui.div("⚠️ Range vazio! Verifique os valores.", 
                                       style="background: #fff3cd; padding: 8px; border-radius: 4px; color: #856404; font-weight: bold;"))
                    return ui.div(*result)
                
                result.append(ui.div("🔍 ANÁLISE PASSO-A-PASSO DO FOR:", 
                                   style="font-weight: bold; color: #007bff; margin-bottom: 10px; font-size: 1.1em;"))
                
                result.append(ui.div(f"📋 Configuração: for {var} in range({start}, {end}, {step})", 
                                   style="background: #e3f2fd; padding: 8px; border-radius: 4px; margin: 5px 0; font-family: monospace;"))
                
                result.append(ui.div(f"📊 Valores que {var} assumirá: {range_values}", 
                                   style="background: #f3e5f5; padding: 8px; border-radius: 4px; margin: 5px 0; font-weight: bold;"))
                
                soma_acumulada = 0
                for i, value in enumerate(range_values):
                    result.append(ui.div(f"🔄 Iteração {i+1}: {var} = {value}", 
                                       style="background: #fff3e0; padding: 8px; border-radius: 4px; margin: 5px 0; font-weight: bold; border-left: 4px solid #ff9800;"))
                    
                    if action == "print":
                        result.append(ui.div(f"   💬 Ação: print({value})", 
                                           style="margin-left: 20px; color: #666; margin-top: 2px; font-style: italic;"))
                        result.append(ui.div(f"   📤 Saída: {value}", 
                                           style="margin-left: 20px; color: #2e7d32; margin-top: 2px; font-family: monospace; background: #e8f5e8; padding: 4px; border-radius: 3px;"))
                    
                    elif action == "square":
                        result.append(ui.div(f"   💬 Ação: calcular {value}²", 
                                           style="margin-left: 20px; color: #666; margin-top: 2px; font-style: italic;"))
                        result.append(ui.div(f"   📤 Saída: {value}² = {value**2}", 
                                           style="margin-left: 20px; color: #2e7d32; margin-top: 2px; font-family: monospace; background: #e8f5e8; padding: 4px; border-radius: 3px;"))
                    
                    elif action == "star":
                        stars_count = min(value, 10)
                        result.append(ui.div(f"   💬 Ação: imprimir {stars_count} estrelas", 
                                           style="margin-left: 20px; color: #666; margin-top: 2px; font-style: italic;"))
                        result.append(ui.div(f"   📤 Saída: {'⭐' * stars_count}{' (limitado a 10)' if value > 10 else ''}", 
                                           style="margin-left: 20px; color: #2e7d32; margin-top: 2px; font-family: monospace; background: #e8f5e8; padding: 4px; border-radius: 3px;"))
                    
                    elif action == "accumulate":
                        soma_acumulada += value
                        result.append(ui.div(f"   💬 Ação: soma += {value}", 
                                           style="margin-left: 20px; color: #666; margin-top: 2px; font-style: italic;"))
                        result.append(ui.div(f"   📤 Saída: Soma atual = {soma_acumulada}", 
                                           style="margin-left: 20px; color: #2e7d32; margin-top: 2px; font-family: monospace; background: #e8f5e8; padding: 4px; border-radius: 3px;"))
                    
                    elif action == "custom":
                        formatted = custom.replace("{var}", str(value))
                        result.append(ui.div(f"   💬 Ação: ação personalizada", 
                                           style="margin-left: 20px; color: #666; margin-top: 2px; font-style: italic;"))
                        result.append(ui.div(f"   📤 Saída: {formatted}", 
                                           style="margin-left: 20px; color: #2e7d32; margin-top: 2px; font-family: monospace; background: #e8f5e8; padding: 4px; border-radius: 3px;"))
                    
                    if i < len(range_values) - 1:
                        result.append(ui.div("", style="border-bottom: 1px dashed #ccc; margin: 8px 0;"))
                
                result.append(ui.div(f"✅ Loop FOR completado! Total de {len(range_values)} iterações.", 
                                   style="background: #d4edda; padding: 12px; border-radius: 4px; margin: 10px 0; color: #155724; font-weight: bold; border-left: 4px solid #28a745;"))
                
                # Resumo
                result.append(ui.div("📋 RESUMO:", style="font-weight: bold; color: #6c757d; margin-top: 15px; margin-bottom: 5px;"))
                result.append(ui.div(f"• Variável '{var}': {start} → {end-1} (passo {step})", style="margin-left: 10px; color: #6c757d; margin-bottom: 2px;"))
                result.append(ui.div(f"• Ação executada: {action}", style="margin-left: 10px; color: #6c757d;"))
                
            except Exception as e:
                result.append(ui.div(f"❌ Erro: {str(e)}", style="color: #dc3545; font-weight: bold;"))
            
            return ui.div(*result)
    
    # =========================================================================
    # HANDLERS DA ABA 2: ANATOMIA DO WHILE
    # =========================================================================
    
    @reactive.effect
    @reactive.event(input.build_while)
    def handle_while_anatomy():
        """Constrói e executa o loop WHILE"""
        var = input.while_var()
        initial = input.while_initial()
        condition = input.while_condition()
        limit = input.while_limit()
        action = input.while_action()
        update = input.while_update()
        
        @output
        @render.ui
        def while_anatomy_code():
            """Gera o código visual do WHILE"""
            code_lines = []
            
            # Inicialização
            init_line = ui.HTML(f"<span class='code-part'>{var} = {initial}</span>  # Inicialização")
            code_lines.append(init_line)
            
            if action == "accumulate":
                code_lines.append("total = 0  # Acumulador")
            elif action == "search":
                code_lines.append("encontrado = False")
            
            # Condição
            condition_line = ui.HTML(f"while <span class='code-part'>{var} {condition} {limit}</span>:  # Condição")
            code_lines.append(condition_line)
            
            # Corpo do loop
            if action == "count":
                code_lines.append(f"    print(f'Contando: {{{var}}}')")
            elif action == "accumulate":
                code_lines.append(f"    total += {var}")
                code_lines.append(f"    print(f'{{{var}}} adicionado. Total: {{total}}')")
            elif action == "search":
                code_lines.append(f"    if {var} == 7:")
                code_lines.append(f"        print('Encontrei o 7!')")
                code_lines.append(f"        encontrado = True")
                code_lines.append(f"        break")
            elif action == "game":
                code_lines.append(f"    dado = random.randint(1, 6)")
                code_lines.append(f"    print(f'Rodada {{{var}}}: Dado = {{dado}}')")
            
            # Atualização
            update_code = {
                "+=1": f"{var} += 1",
                "+=2": f"{var} += 2", 
                "*=2": f"{var} *= 2",
                "-=1": f"{var} -= 1",
                "random": f"{var} = random.randint(1, 10)"
            }
            
            update_line = ui.HTML(f"    <span class='code-part'>{update_code[update]}</span>  # Atualização")
            code_lines.append(update_line)
            
            return ui.div(
                ui.div(*[ui.div(line) for line in code_lines]),
                style="background: #f8f9fa; padding: 15px; border-radius: 5px; font-family: 'Courier New', monospace; line-height: 1.4;"
            )
        
        @output
        @render.ui
        def while_anatomy_output():
            """Executa e mostra o resultado do WHILE"""
            result = []
            counter = initial
            total = 0
            iterations = 0
            max_iterations = 100
            
            try:
                while iterations < max_iterations:
                    condition_met = eval_condition(counter, condition, limit)
                    
                    if not condition_met:
                        break
                    
                    if action == "count":
                        result.append(ui.div(f"Contando: {counter}", style="margin: 2px 0;"))
                    elif action == "accumulate":
                        total += counter
                        result.append(ui.div(f"{counter} adicionado. Total: {total}", style="margin: 2px 0;"))
                    elif action == "search":
                        if counter == 7:
                            result.append(ui.div("Encontrei o 7! 🎉", style="margin: 2px 0; color: #28a745; font-weight: bold;"))
                            break
                        else:
                            result.append(ui.div(f"Verificando {counter}... não é 7", style="margin: 2px 0;"))
                    elif action == "game":
                        dado = random.randint(1, 6)
                        result.append(ui.div(f"Rodada {counter}: Dado = {dado}", style="margin: 2px 0;"))
                    
                    # Atualizar variável
                    if update == "+=1":
                        counter += 1
                    elif update == "+=2":
                        counter += 2
                    elif update == "*=2":
                        counter *= 2
                    elif update == "-=1":
                        counter -= 1
                    elif update == "random":
                        counter = random.randint(1, 10)
                    
                    iterations += 1
                
                if iterations >= max_iterations:
                    result.append(ui.div("⚠️ Loop interrompido (limite de segurança)", 
                                       style="margin: 2px 0; color: #dc3545; font-weight: bold;"))
                    
            except Exception as e:
                result.append(ui.div(f"❌ Erro: {str(e)}", style="color: #dc3545;"))
            
            return ui.div(*result, style="line-height: 0.5;")
        
        @output
        @render.ui
        def while_explanation():
            """Gera explicação do WHILE"""
            return ui.div(
                ui.h5("🎓 Como funcionou o WHILE:"),
                ui.p(f"1. Começamos com {var} = {initial}"),
                ui.p(f"2. Verificamos se {var} {condition} {limit}"),
                ui.p(f"3. Se verdadeiro, executamos o código do loop"),
                ui.p(f"4. Atualizamos {var} usando: {update}"),
                ui.p(f"5. Repetimos até a condição ser falsa"),
                ui.p("⚠️ IMPORTANTE: Sem atualização correta, o loop pode ser infinito!"),
                class_="success-msg"
            )
    
    @reactive.effect
    @reactive.event(input.step_by_step_while)
    def handle_while_step_by_step():
        """Execução passo-a-passo do WHILE"""
        var = input.while_var()
        initial = input.while_initial()
        condition = input.while_condition()
        limit = input.while_limit()
        update = input.while_update()
        action = input.while_action()
        
        @output
        @render.ui
        def while_step_output():
            result = []
            counter = initial
            step_num = 0
            max_steps = 15
            
            result.append(ui.div("🔍 ANÁLISE PASSO-A-PASSO DO WHILE:", 
                               style="font-weight: bold; color: #28a745; margin-bottom: 10px; font-size: 1.1em;"))
            
            result.append(ui.div(f"📋 Configuração: while {var} {condition} {limit}", 
                               style="background: #e8f5e8; padding: 8px; border-radius: 4px; margin: 5px 0; font-family: monospace;"))
            
            result.append(ui.div(f"🎯 Inicialização: {var} = {initial}", 
                               style="background: #f3e5f5; padding: 8px; border-radius: 4px; margin: 5px 0; font-weight: bold;"))
            
            total_accumulator = 0
            
            try:
                while step_num < max_steps:
                    condition_met = eval_condition(counter, condition, limit)
                    
                    result.append(ui.div(f"❓ Passo {step_num + 1}: Verificar condição", 
                                       style="background: #fff3e0; padding: 8px; border-radius: 4px; margin: 8px 0; font-weight: bold; border-left: 4px solid #ff9800;"))
                    
                    result.append(ui.div(f"   🔍 {counter} {condition} {limit} = {condition_met}", 
                                       style="margin-left: 20px; font-family: monospace; background: #f8f9fa; padding: 6px; border-radius: 3px; margin-top: 4px;"))
                    
                    if not condition_met:
                        result.append(ui.div("🚫 Condição FALSA → Loop termina!", 
                                           style="background: #ffebee; padding: 10px; border-radius: 4px; margin: 8px 0; color: #c62828; font-weight: bold; border-left: 4px solid #f44336;"))
                        break
                    
                    result.append(ui.div("✅ Condição VERDADEIRA → Executar corpo do loop", 
                                       style="margin-left: 20px; color: #2e7d32; margin-top: 4px; font-weight: bold;"))
                    
                    # Mostrar ação
                    if action == "count":
                        result.append(ui.div(f"   💬 Ação: Contar/imprimir {counter}", 
                                           style="margin-left: 40px; color: #666; font-style: italic; margin-top: 2px;"))
                        result.append(ui.div(f"   📤 Saída: Contando: {counter}", 
                                           style="margin-left: 40px; color: #2e7d32; font-family: monospace; background: #e8f5e8; padding: 4px; border-radius: 3px; margin-top: 2px;"))
                    
                    elif action == "accumulate":
                        total_accumulator += counter
                        result.append(ui.div(f"   💬 Ação: Acumular {counter} ao total", 
                                           style="margin-left: 40px; color: #666; font-style: italic; margin-top: 2px;"))
                        result.append(ui.div(f"   📤 Saída: Total = {total_accumulator}", 
                                           style="margin-left: 40px; color: #2e7d32; font-family: monospace; background: #e8f5e8; padding: 4px; border-radius: 3px; margin-top: 2px;"))
                    
                    elif action == "search":
                        if counter == 7:
                            result.append(ui.div("   💬 Ação: Encontrou o 7!", 
                                               style="margin-left: 40px; color: #666; font-style: italic; margin-top: 2px;"))
                            result.append(ui.div("   📤 Saída: Encontrei! 🎉", 
                                               style="margin-left: 40px; color: #2e7d32; font-family: monospace; background: #e8f5e8; padding: 4px; border-radius: 3px; margin-top: 2px;"))
                            break
                        else:
                            result.append(ui.div(f"   💬 Ação: Verificar se {counter} == 7", 
                                               style="margin-left: 40px; color: #666; font-style: italic; margin-top: 2px;"))
                            result.append(ui.div(f"   📤 Saída: {counter} ≠ 7, continuar...", 
                                               style="margin-left: 40px; color: #2e7d32; font-family: monospace; background: #e8f5e8; padding: 4px; border-radius: 3px; margin-top: 2px;"))
                    
                    elif action == "game":
                        dado_valor = random.randint(1, 6)
                        result.append(ui.div(f"   💬 Ação: Jogar dado", 
                                           style="margin-left: 40px; color: #666; font-style: italic; margin-top: 2px;"))
                        result.append(ui.div(f"   📤 Saída: Dado = {dado_valor}", 
                                           style="margin-left: 40px; color: #2e7d32; font-family: monospace; background: #e8f5e8; padding: 4px; border-radius: 3px; margin-top: 2px;"))
                    
                    # Atualização
                    old_counter = counter
                    if update == "+=1":
                        counter += 1
                        update_desc = "somar 1"
                    elif update == "+=2":
                        counter += 2
                        update_desc = "somar 2"
                    elif update == "*=2":
                        counter *= 2
                        update_desc = "multiplicar por 2"
                    elif update == "-=1":
                        counter -= 1
                        update_desc = "subtrair 1"
                    elif update == "random":
                        counter = random.randint(1, 10)
                        update_desc = "valor aleatório"
                    
                    result.append(ui.div(f"🔄 Atualização: {old_counter} → {counter} ({update_desc})", 
                                       style="margin-left: 20px; color: #6c757d; font-style: italic; margin-top: 4px; background: #f8f9fa; padding: 6px; border-radius: 3px;"))
                    
                    if step_num < max_steps - 1:
                        result.append(ui.div("", style="border-bottom: 1px dashed #ccc; margin: 10px 0;"))
                    
                    step_num += 1
                
                if step_num >= max_steps:
                    result.append(ui.div("⚠️ Análise interrompida - muitas iterações", 
                                       style="background: #fff3cd; padding: 10px; border-radius: 4px; margin: 10px 0; color: #856404; font-weight: bold;"))
                else:
                    result.append(ui.div(f"✅ Loop WHILE completado! Total de {step_num} iterações.", 
                                       style="background: #d4edda; padding: 12px; border-radius: 4px; margin: 10px 0; color: #155724; font-weight: bold; border-left: 4px solid #28a745;"))
                
                # Resumo
                result.append(ui.div("📋 RESUMO:", style="font-weight: bold; color: #6c757d; margin-top: 15px; margin-bottom: 5px;"))
                result.append(ui.div(f"• Variável '{var}': {initial} → {counter}", style="margin-left: 10px; color: #6c757d; margin-bottom: 2px;"))
                result.append(ui.div(f"• Condição: {var} {condition} {limit}", style="margin-left: 10px; color: #6c757d; margin-bottom: 2px;"))
                result.append(ui.div(f"• Atualização: {update}", style="margin-left: 10px; color: #6c757d;"))
                
            except Exception as e:
                result.append(ui.div(f"❌ Erro: {str(e)}", style="color: #dc3545; font-weight: bold;"))
            
            return ui.div(*result)
          # =========================================================================
    # HANDLERS DA ABA 3: FOR + WHILE JUNTOS
    # =========================================================================
    
    @reactive.effect
    @reactive.event(input.run_game)
    def handle_game():
        """Jogo de Dados Múltiplos"""
        num_players = input.num_players()
        target = input.target_score()
        
        @output
        @render.ui
        def combined_code():
            code = f"""# Jogo de Dados Múltiplos - FOR + WHILE
import random

num_jogadores = {num_players}
meta_pontuacao = {target}

# FOR externo para cada jogador
for jogador in range(1, num_jogadores + 1):
    print(f"\\n🎮 Jogador {{jogador}}:")
    pontuacao = 0
    rodadas = 0
    
    # WHILE interno até atingir a meta
    while pontuacao < meta_pontuacao:
        dado = random.randint(1, 6)
        pontuacao += dado
        rodadas += 1
        print(f"  Rodada {{rodadas}}: Dado = {{dado}}, Total = {{pontuacao}}")
    
    print(f"  🏆 Jogador {{jogador}} venceu em {{rodadas}} rodadas!")"""
            
            return ui.div(
                ui.pre(code),
                style="background: #f8f9fa; padding: 15px; border-radius: 5px; font-family: 'Courier New', monospace; overflow-x: auto;"
            )
        
        @output
        @render.ui
        def combined_output():
            result = []
            
            try:
                for jogador in range(1, num_players + 1):
                    result.append(ui.div(f"🎮 Jogador {jogador}:", style="font-weight: bold; color: #007bff; margin: 8px 0;"))
                    pontuacao = 0
                    rodadas = 0
                    
                    while pontuacao < target and rodadas < 50:  # Limite de segurança
                        dado = random.randint(1, 6)
                        pontuacao += dado
                        rodadas += 1
                        result.append(ui.div(f"  Rodada {rodadas}: Dado = {dado}, Total = {pontuacao}", style="margin: 2px 0;"))
                    
                    result.append(ui.div(f"  🏆 Jogador {jogador} venceu em {rodadas} rodadas!", 
                                       style="color: #28a745; font-weight: bold; margin: 4px 0;"))
                    
            except Exception as e:
                result.append(ui.div(f"❌ Erro: {str(e)}", style="color: #dc3545;"))
            
            return ui.div(*result, style="line-height: 0.5;")
        
        @output
        @render.ui
        def combined_explanation():
            return ui.div(
                ui.h5("🎓 Análise do Código:"),
                ui.p("• O loop FOR gerencia cada jogador sequencialmente"),
                ui.p("• O loop WHILE faz cada jogador jogar até atingir a meta"),
                ui.p("• Cada estrutura tem sua responsabilidade específica"),
                ui.p("• Combinação permite resolver problemas complexos"),
                class_="success-msg"
            )
    
    @reactive.effect
    @reactive.event(input.run_pattern)
    def handle_pattern():
        """Padrões Geométricos"""
        rows = input.pattern_rows()
        pattern_type = input.pattern_type()
        
        @output
        @render.ui
        def combined_code():
            if pattern_type == "triangle":
                code = f"""# Padrão Triângulo - FOR + WHILE
linhas = {rows}

for linha in range(1, linhas + 1):
    estrelas = 0
    while estrelas < linha:
        print("⭐", end="")
        estrelas += 1
    print()  # Nova linha"""
                
            elif pattern_type == "diamond":
                code = f"""# Padrão Diamante - FOR + WHILE  
tamanho = {rows}

# Parte superior
for linha in range(1, tamanho + 1):
    espacos = 0
    while espacos < (tamanho - linha):
        print(" ", end="")
        espacos += 1
    
    estrelas = 0
    while estrelas < linha:
        print("⭐", end="")
        estrelas += 1
    print()

# Parte inferior  
for linha in range(tamanho - 1, 0, -1):
    espacos = 0
    while espacos < (tamanho - linha):
        print(" ", end="")
        espacos += 1
    
    estrelas = 0
    while estrelas < linha:
        print("⭐", end="")
        estrelas += 1
    print()"""
                
            else:  # pyramid
                code = f"""# Padrão Pirâmide - FOR + WHILE
altura = {rows}

for linha in range(altura):
    espacos = 0
    while espacos < (altura - linha - 1):
        print(" ", end="")
        espacos += 1
    
    estrelas = 0
    while estrelas < (2 * linha + 1):
        print("⭐", end="")
        estrelas += 1
    
    print()"""
            
            return ui.div(
                ui.pre(code),
                style="background: #f8f9fa; padding: 15px; border-radius: 5px; font-family: 'Courier New', monospace; overflow-x: auto;"
            )
        
        @output
        @render.ui  
        def combined_output():
            result = []
            
            try:
                if pattern_type == "triangle":
                    for linha in range(1, rows + 1):
                        estrelas = "⭐" * linha
                        result.append(ui.div(estrelas, style="font-family: monospace; margin: 2px 0;"))
                
                elif pattern_type == "diamond":
                    # Parte superior
                    for linha in range(1, rows + 1):
                        espacos = " " * (rows - linha)
                        estrelas = "⭐" * linha
                        result.append(ui.div(espacos + estrelas, style="font-family: monospace; margin: 2px 0;"))
                    
                    # Parte inferior
                    for linha in range(rows - 1, 0, -1):
                        espacos = " " * (rows - linha)
                        estrelas = "⭐" * linha
                        result.append(ui.div(espacos + estrelas, style="font-family: monospace; margin: 2px 0;"))
                
                else:  # pyramid
                    for linha in range(rows):
                        espacos = " " * (rows - linha - 1)
                        estrelas = "⭐" * (2 * linha + 1)
                        result.append(ui.div(espacos + estrelas, style="font-family: monospace; margin: 2px 0;"))
                        
            except Exception as e:
                result.append(ui.div(f"❌ Erro: {str(e)}", style="color: #dc3545;"))
            
            return ui.div(*result, style="line-height: 0.5;")
        
        @output
        @render.ui
        def combined_explanation():
            return ui.div(
                ui.h5("🎓 Análise dos Padrões:"),
                ui.p("• FOR controla as linhas (estrutura principal)"),
                ui.p("• WHILE controla elementos dentro de cada linha"),
                ui.p("• Separação clara de responsabilidades"),
                ui.p("• Cada loop tem um propósito específico"),
                class_="success-msg"
            )
    
    @reactive.effect
    @reactive.event(input.run_search)
    def handle_search():
        """Busca com WHILE Externo"""
        search_item = input.search_item()
        max_attempts = input.max_attempts()
        
        @output
        @render.ui
        def combined_code():
            code = f"""# Busca com WHILE Externo - WHILE + FOR
import random

item_procurado = "{search_item}"
max_tentativas = {max_attempts}
encontrado = False
tentativa = 1

# WHILE externo controla as tentativas
while tentativa <= max_tentativas and not encontrado:
    print(f"\\n🔍 Tentativa {{tentativa}}:")
    
    # FOR interno gera lista para buscar
    lista_busca = []
    for i in range(5):
        items = ["🎁", "📦", "🎪", "🎯", "🎲", "🎊"]
        item_aleatorio = random.choice(items)
        lista_busca.append(item_aleatorio)
    
    print(f"Lista: {{lista_busca}}")
    
    if item_procurado in lista_busca:
        print(f"✅ {{item_procurado}} encontrado!")
        encontrado = True
    else:
        print(f"❌ {{item_procurado}} não encontrado")
    
    tentativa += 1

if not encontrado:
    print(f"\\n😞 {{item_procurado}} não foi encontrado")"""
            
            return ui.div(
                ui.pre(code),
                style="background: #f8f9fa; padding: 15px; border-radius: 5px; font-family: 'Courier New', monospace; overflow-x: auto;"
            )
        
        @output
        @render.ui
        def combined_output():
            result = []
            encontrado = False
            tentativa = 1
            
            try:
                while tentativa <= max_attempts and not encontrado:
                    result.append(ui.div(f"🔍 Tentativa {tentativa}:", 
                                       style="font-weight: bold; color: #007bff; margin: 8px 0;"))
                    
                    lista_busca = []
                    items = ["🎁", "📦", "🎪", "🎯", "🎲", "🎊"]
                    for i in range(5):
                        item_aleatorio = random.choice(items)
                        lista_busca.append(item_aleatorio)
                    
                    result.append(ui.div(f"Lista: {lista_busca}", 
                                       style="margin: 4px 0; font-family: monospace;"))
                    
                    if search_item in lista_busca:
                        result.append(ui.div(f"✅ {search_item} encontrado!", 
                                           style="color: #28a745; font-weight: bold; margin: 4px 0;"))
                        encontrado = True
                    else:
                        result.append(ui.div(f"❌ {search_item} não encontrado", 
                                           style="color: #dc3545; margin: 4px 0;"))
                    
                    tentativa += 1
                
                if not encontrado:
                    result.append(ui.div(f"😞 {search_item} não foi encontrado em {max_attempts} tentativas", 
                                       style="color: #856404; font-weight: bold; margin: 8px 0;"))
                    
            except Exception as e:
                result.append(ui.div(f"❌ Erro: {str(e)}", style="color: #dc3545;"))
            
            return ui.div(*result, style="line-height: 0.5;")
        
        @output
        @render.ui
        def combined_explanation():
            return ui.div(
                ui.h5("🎓 Análise - WHILE Externo:"),
                ui.p("• O loop WHILE controla o número de tentativas"),
                ui.p("• O loop FOR gera uma nova lista a cada tentativa"),
                ui.p("• O WHILE para quando encontra o item OU esgota tentativas"),
                ui.p("• Estrutura ideal para processos com limite de tentativas"),
                class_="success-msg"
            )
    
    @reactive.effect
    @reactive.event(input.run_production)
    def handle_production():
        """Simulação de Produção"""
        target_production = input.target_production()
        batch_size = input.batch_size()
        
        @output
        @render.ui
        def combined_code():
            code = f"""# Simulação de Produção - WHILE + FOR
import random

meta_producao = {target_production}
tamanho_lote = {batch_size}
total_produzido = 0
lote_numero = 1

# WHILE externo até atingir a meta
while total_produzido < meta_producao:
    print(f"\\n🏭 Produzindo Lote {{lote_numero}}:")
    producao_lote = 0
    
    # FOR interno para cada item do lote
    for item in range(tamanho_lote):
        if random.random() < 0.9:  # 90% sucesso
            producao_lote += 1
            print(f"  ✅ Item {{item + 1}}: Produzido")
        else:
            print(f"  ❌ Item {{item + 1}}: Falha")
    
    total_produzido += producao_lote
    print(f"📊 Lote {{lote_numero}}: {{producao_lote}}/{{tamanho_lote}}")
    print(f"📈 Total: {{total_produzido}}/{{meta_producao}}")
    
    lote_numero += 1
    
    if lote_numero > 20:  # Segurança
        break

print(f"\\n🎉 Produção finalizada!")"""
            
            return ui.div(
                ui.pre(code),
                style="background: #f8f9fa; padding: 15px; border-radius: 5px; font-family: 'Courier New', monospace; overflow-x: auto;"
            )
        
        @output
        @render.ui
        def combined_output():
            result = []
            total_produzido = 0
            lote_numero = 1
            
            try:
                while total_produzido < target_production and lote_numero <= 15:
                    result.append(ui.div(f"🏭 Produzindo Lote {lote_numero}:", 
                                       style="font-weight: bold; color: #28a745; margin: 8px 0;"))
                    
                    producao_lote = 0
                    for item in range(batch_size):
                        if random.random() < 0.9:
                            producao_lote += 1
                            result.append(ui.div(f"  ✅ Item {item + 1}: Produzido", 
                                               style="color: #28a745; margin: 2px 0; font-size: 0.9em;"))
                        else:
                            result.append(ui.div(f"  ❌ Item {item + 1}: Falha", 
                                               style="color: #dc3545; margin: 2px 0; font-size: 0.9em;"))
                    
                    total_produzido += producao_lote
                    result.append(ui.div(f"📊 Lote {lote_numero}: {producao_lote}/{batch_size}", 
                                       style="font-weight: bold; margin: 4px 0;"))
                    result.append(ui.div(f"📈 Total: {total_produzido}/{target_production}", 
                                       style="color: #007bff; font-weight: bold; margin: 4px 0;"))
                    
                    lote_numero += 1
                
                if total_produzido >= target_production:
                    result.append(ui.div(f"🎉 Meta atingida! Produzido: {total_produzido}", 
                                       style="background: #d4edda; padding: 8px; border-radius: 4px; color: #155724; font-weight: bold; margin: 8px 0;"))
                else:
                    result.append(ui.div(f"⚠️ Produção interrompida. Total: {total_produzido}", 
                                       style="background: #fff3cd; padding: 8px; border-radius: 4px; color: #856404; font-weight: bold; margin: 8px 0;"))
                    
            except Exception as e:
                result.append(ui.div(f"❌ Erro: {str(e)}", style="color: #dc3545;"))
            
            return ui.div(*result, style="line-height: 0.5;")
        
        @output
        @render.ui
        def combined_explanation():
            return ui.div(
                ui.h5("🎓 Análise - Produção Industrial:"),
                ui.p("• WHILE controla a produção até atingir a meta"),
                ui.p("• FOR produz cada item de um lote"),
                ui.p("• Simulação de falhas realística (10% de falha)"),
                ui.p("• Permite controle fino do processo produtivo"),
                class_="success-msg"
            )
    
    @reactive.effect
    @reactive.event(input.run_quiz)
    def handle_quiz():
        """Quiz Interativo"""
        num_quiz_players = input.num_quiz_players()
        questions_per_round = input.questions_per_round()
        
        @output
        @render.ui
        def combined_code():
            code = f"""# Quiz Interativo - WHILE + FOR
import random

num_jogadores = {num_quiz_players}
perguntas_por_rodada = {questions_per_round}

perguntas = ["2+2=?", "5×3=?", "10÷2=?", "7-3=?", "4+6=?"]
respostas = [4, 15, 5, 4, 10]

# WHILE externo para cada jogador
jogador_atual = 1
while jogador_atual <= num_jogadores:
    print(f"\\n🎯 Jogador {{jogador_atual}} - Sua vez!")
    pontos = 0
    
    # FOR interno para cada pergunta
    for pergunta_num in range(perguntas_por_rodada):
        indice = random.randint(0, len(perguntas) - 1)
        pergunta = perguntas[indice]
        resposta_certa = respostas[indice]
        
        print(f"  P{{{pergunta_num + 1}}}: {{pergunta}}")
        
        # Simular resposta (70% de chance de acertar)
        if random.random() < 0.7:
            print(f"  ✅ Resposta: {{resposta_certa}} - CORRETO!")
            pontos += 1
        else:
            erro = resposta_certa + random.randint(-3, 3)
            print(f"  ❌ Resposta: {{erro}} - INCORRETO!")
    
    print(f"  📊 Total: {{pontos}}/{{perguntas_por_rodada}} pontos")
    
    # Parar se pontuação perfeita
    if pontos == perguntas_por_rodada:
        print(f"  🏆 PERFEITO!")
        break
    
    jogador_atual += 1

print("\\n🎉 Quiz finalizado!")"""
            
            return ui.div(
                ui.pre(code),
                style="background: #f8f9fa; padding: 15px; border-radius: 5px; font-family: 'Courier New', monospace; overflow-x: auto;"
            )
        
        @output
        @render.ui
        def combined_output():
            result = []
            
            try:
                perguntas = ["2+2=?", "5×3=?", "10÷2=?", "7-3=?", "4+6=?", "9÷3=?", "8-5=?", "6×2=?"]
                respostas = [4, 15, 5, 4, 10, 3, 3, 12]
                
                jogador_atual = 1
                vencedor_perfeito = False
                
                while jogador_atual <= num_quiz_players and not vencedor_perfeito:
                    result.append(ui.div(f"🎯 Jogador {jogador_atual} - Sua vez!", 
                                       style="font-weight: bold; color: #dc3545; margin: 8px 0;"))
                    pontos = 0
                    
                    for pergunta_num in range(questions_per_round):
                        indice = random.randint(0, len(perguntas) - 1)
                        pergunta = perguntas[indice]
                        resposta_certa = respostas[indice]
                        
                        result.append(ui.div(f"  P{pergunta_num + 1}: {pergunta}", 
                                           style="margin: 3px 0; font-weight: bold;"))
                        
                        if random.random() < 0.7:
                            result.append(ui.div(f"  ✅ Resposta: {resposta_certa} - CORRETO!", 
                                               style="color: #28a745; margin: 2px 0; margin-left: 10px;"))
                            pontos += 1
                        else:
                            resposta_errada = resposta_certa + random.randint(-3, 3)
                            result.append(ui.div(f"  ❌ Resposta: {resposta_errada} - INCORRETO!", 
                                               style="color: #dc3545; margin: 2px 0; margin-left: 10px;"))
                    
                    result.append(ui.div(f"  📊 Total: {pontos}/{questions_per_round} pontos", 
                                       style="font-weight: bold; margin: 4px 0; color: #007bff;"))
                    
                    if pontos == questions_per_round:
                        result.append(ui.div("  🏆 PERFEITO! Pontuação máxima!", 
                                           style="background: #d4edda; padding: 6px; border-radius: 4px; color: #155724; font-weight: bold; margin: 4px 0;"))
                        vencedor_perfeito = True
                    
                    jogador_atual += 1
                
                result.append(ui.div("🎉 Quiz finalizado!", 
                                   style="background: #e3f2fd; padding: 8px; border-radius: 4px; color: #1565c0; font-weight: bold; margin: 8px 0;"))
                
            except Exception as e:
                result.append(ui.div(f"❌ Erro: {str(e)}", style="color: #dc3545;"))
            
            return ui.div(*result, style="line-height: 1.4;")
        
        @output
        @render.ui
        def combined_explanation():
            return ui.div(
                ui.h5("🎓 Análise - Quiz com WHILE Externo:"),
                ui.p("• WHILE controla os jogadores (para se alguém faz pontuação perfeita)"),
                ui.p("• FOR gera as perguntas para cada jogador"),
                ui.p("• WHILE externo permite condições de parada especiais"),
                ui.p("• Combina controle de fluxo com lógica de jogo"),
                class_="success-msg"
            )
    
    # =========================================================================
    # HANDLERS DA ABA 4: DESAFIOS INTERATIVOS
    # =========================================================================
    
    @output
    @render.ui
    def challenge_prompt():
        """Mostra o prompt do desafio atual"""
        current_idx = current_challenge_idx.get()
        challenge = challenges[current_idx]
        
        return ui.div(
            ui.h4(f"Desafio {current_idx + 1}: {challenge['title']}"),
            ui.p("Complete as lacunas no código abaixo:"),
            ui.pre(challenge['template'], 
                  style="background: #f8f9fa; padding: 10px; font-family: monospace; border: 1px solid #dee2e6; border-radius: 4px;"),
            class_="tip-box"
        )
    
    @output
    @render.ui
    def challenge_inputs():
        """Gera inputs para as lacunas do desafio"""
        current_idx = current_challenge_idx.get()
        challenge = challenges[current_idx]
        
        inputs = []
        for i, blank in enumerate(challenge['blanks']):
            input_id = f"challenge_input_{i}"
            inputs.append(
                ui.div(
                    ui.input_text(input_id, f"Lacuna {i+1}:", value="", placeholder=f"Digite aqui..."),
                    style="margin: 5px 0;"
                )
            )
        
        return ui.div(*inputs)
    
    @reactive.effect
    @reactive.event(input.check_challenge)
    def check_challenge():
        """Verifica as respostas do desafio"""
        current_idx = current_challenge_idx.get()
        challenge = challenges[current_idx]
        
        # Coletar respostas
        user_answers = []
        for i in range(len(challenge['blanks'])):
            input_id = f"challenge_input_{i}"
            try:
                user_answer = getattr(input, input_id)()
                user_answers.append(user_answer.strip())
            except:
                user_answers.append("")
        
        # Verificar correção
        correct = all(user == correct for user, correct in zip(user_answers, challenge['blanks']))
        
        @output
        @render.ui
        def challenge_code():
            template = challenge['template']
            filled_template = template
            
            for answer in user_answers:
                filled_template = filled_template.replace("___", answer, 1)
            
            return ui.div(
                ui.pre(filled_template),
                style="background: #f8f9fa; padding: 15px; border-radius: 5px; font-family: 'Courier New', monospace;"
            )
        
        @output
        @render.ui
        def challenge_result():
            return ui.div(challenge['expected'], style="font-family: monospace;")
        
        @output
        @render.ui
        def challenge_feedback():
            if correct:
                return ui.div(
                    "🎉 Parabéns! Você completou o desafio corretamente!",
                    class_="success-msg"
                )
            else:
                return ui.div(
                    "❌ Ainda não está correto. Tente novamente ou use uma dica!",
                    class_="error-msg"
                )
    
    @reactive.effect
    @reactive.event(input.hint_challenge)
    def show_hint():
        """Mostra dicas para o desafio atual"""
        current_idx = current_challenge_idx.get()
        challenge = challenges[current_idx]
        
        @output
        @render.ui
        def challenge_feedback():
            hints_text = "\n".join([f"💡 Dica {i+1}: {hint}" for i, hint in enumerate(challenge['hints'])])
            return ui.div(
                ui.pre(hints_text),
                class_="tip-box"
            )
    
    @reactive.effect
    @reactive.event(input.next_challenge)
    def next_challenge():
        """Avança para o próximo desafio"""
        current_idx = current_challenge_idx.get()
        new_idx = (current_idx + 1) % len(challenges)
        current_challenge_idx.set(new_idx)
    
    # =========================================================================
    # HANDLERS DA ABA 5: LABORATÓRIO LIVRE
    # =========================================================================
    
    @reactive.effect
    @reactive.event(input.lab_template)
    def load_template():
        """Carrega template selecionado"""
        template = input.lab_template()
        if template in lab_templates:
            ui.update_text_area("lab_code", value=lab_templates[template])
    
    @reactive.effect
    @reactive.event(input.clear_lab)
    def clear_lab():
        """Limpa o código do laboratório"""
        ui.update_text_area("lab_code", value="# Digite seu código aqui\n")
    
    @reactive.effect
    @reactive.event(input.run_lab)
    def run_lab_code():
        """Executa código do laboratório"""
        code = input.lab_code()
        
        @output
        @render.text
        def lab_output():
            return safe_execute_code(code)
        
        @output
        @render.ui
        def lab_analysis():
            """Análise do código"""
            has_for = "for " in code
            has_while = "while " in code
            has_if = "if " in code
            has_print = "print(" in code
            has_import = "import " in code
            
            analysis = []
            if has_for:
                analysis.append("✅ Contém loop FOR")
            if has_while:
                analysis.append("✅ Contém loop WHILE")
            if has_if:
                analysis.append("✅ Contém estrutura condicional")
            if has_print:
                analysis.append("✅ Produz saída com print")
            if has_import:
                analysis.append("✅ Usa bibliotecas importadas")
            
            if not analysis:
                analysis.append("ℹ️ Código simples detectado")
            
            return ui.div(
                ui.h5("📊 Análise do Código:"),
                *[ui.p(item) for item in analysis],
                class_="tip-box"
            )
        
        @output
        @render.ui
        def lab_tips():
            """Dicas contextuais"""
            tips = [
                "💡 Use comentários para explicar seu código",
                "🔄 Teste diferentes valores e condições", 
                "🐛 Se der erro, leia a mensagem com atenção",
                "🎯 Experimente combinar FOR e WHILE",
                "⚠️ Cuidado com loops infinitos!"
            ]
            
            return ui.div(
                ui.h5("💡 Dicas:"),
                *[ui.p(tip) for tip in tips[:3]],
                class_="tip-box"
            )

# =============================================================================
# CRIAÇÃO E EXECUÇÃO DA APLICAÇÃO
# =============================================================================

app = App(app_ui, server)

if __name__ == "__main__":
    app.run(host="0.0.0.0", port=8000, debug=True)
